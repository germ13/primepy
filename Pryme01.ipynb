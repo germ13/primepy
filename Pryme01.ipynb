{
 "cells": [
  {
   "cell_type": "code",
   "execution_count": 100,
   "metadata": {
    "collapsed": true
   },
   "outputs": [],
   "source": [
    "primes = [2,3,5,7,11,13,17,19,23,29,31,37]\n",
    "numbers = range(2,20)\n",
    "result = []\n"
   ]
  },
  {
   "cell_type": "code",
   "execution_count": 101,
   "metadata": {
    "collapsed": false
   },
   "outputs": [],
   "source": [
    "def factor(n): \n",
    "    \"\"\"Returns prime factors of 'n'\"\"\"\n",
    "    from math import sqrt\n",
    "    factors = []\n",
    "    limit = int(sqrt(n)) + 1\n",
    "    check = 2\n",
    "    num = n\n",
    "    if n == 1:\n",
    "        return [1]\n",
    "    for check in range(2, limit):\n",
    "        while num % check == 0:\n",
    "            factors.append(check) \n",
    "            num //= check \n",
    "    \n",
    "    if num > 1: \n",
    "        factors.append(num) \n",
    "    \n",
    "    return factors\n",
    "\n",
    "\n",
    "def prime_basis(n,distinctFactors=False):\n",
    "    factors = factor(n)\n",
    "    result = [ 0 ] * ( primes.index(max(factors))+1 )\n",
    "    \n",
    "    if distinctFactors:\n",
    "        factors = set(factors)\n",
    "\n",
    "    for f in factors:\n",
    "        i = primes.index(f)\n",
    "        result[i] += 1\n",
    "\n",
    "    return result\n"
   ]
  },
  {
   "cell_type": "code",
   "execution_count": 102,
   "metadata": {
    "collapsed": false
   },
   "outputs": [
    {
     "name": "stdout",
     "output_type": "stream",
     "text": [
      "[2, 2, 3, 5]\n",
      "[2, 2, 2]\n",
      "[2, 2, 3]\n",
      "[2, 5]\n",
      "[2, 5, 5]\n",
      "[2, 2, 2, 7]\n",
      "\n",
      "[2, 1, 1]\n",
      "[3]\n",
      "[2, 1]\n",
      "[1, 0, 1]\n",
      "[1, 0, 2]\n",
      "[3, 0, 0, 1]\n",
      "[3, 0, 0, 2, 0, 1, 0, 2]\n"
     ]
    }
   ],
   "source": [
    "print(factor(60))\n",
    "print(factor(8))\n",
    "print(factor(12))\n",
    "print(factor(10))\n",
    "print(factor(50))\n",
    "print(factor(56))\n",
    "print()\n",
    "print(prime_basis(60, False))\n",
    "print(prime_basis(8, False))\n",
    "print(prime_basis(12, False))\n",
    "print(prime_basis(10, False))\n",
    "print(prime_basis(50, False))\n",
    "print(prime_basis(56, False))\n",
    "print(prime_basis(1839656, False))\n",
    "\n",
    "\n"
   ]
  }
 ],
 "metadata": {
  "kernelspec": {
   "display_name": "Python 3",
   "language": "python",
   "name": "python3"
  },
  "language_info": {
   "codemirror_mode": {
    "name": "ipython",
    "version": 3
   },
   "file_extension": ".py",
   "mimetype": "text/x-python",
   "name": "python",
   "nbconvert_exporter": "python",
   "pygments_lexer": "ipython3",
   "version": "3.4.3"
  }
 },
 "nbformat": 4,
 "nbformat_minor": 0
}
